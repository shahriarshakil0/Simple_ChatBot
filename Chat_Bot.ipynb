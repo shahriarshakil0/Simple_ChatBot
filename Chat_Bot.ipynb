{
  "nbformat": 4,
  "nbformat_minor": 0,
  "metadata": {
    "colab": {
      "name": "Untitled0.ipynb",
      "provenance": []
    },
    "kernelspec": {
      "name": "python3",
      "display_name": "Python 3"
    },
    "language_info": {
      "name": "python"
    }
  },
  "cells": [
    {
      "cell_type": "code",
      "metadata": {
        "colab": {
          "base_uri": "https://localhost:8080/"
        },
        "id": "5qtVNIWA8wPa",
        "outputId": "0928e429-917a-4894-b499-c113c4ccd935"
      },
      "source": [
        "pip install ChatterBot"
      ],
      "execution_count": 1,
      "outputs": [
        {
          "output_type": "stream",
          "text": [
            "Collecting ChatterBot\n",
            "  Downloading ChatterBot-1.0.8-py2.py3-none-any.whl (63 kB)\n",
            "\u001b[?25l\r\u001b[K     |█████▏                          | 10 kB 26.2 MB/s eta 0:00:01\r\u001b[K     |██████████▎                     | 20 kB 30.4 MB/s eta 0:00:01\r\u001b[K     |███████████████▌                | 30 kB 13.4 MB/s eta 0:00:01\r\u001b[K     |████████████████████▋           | 40 kB 10.4 MB/s eta 0:00:01\r\u001b[K     |█████████████████████████▊      | 51 kB 4.5 MB/s eta 0:00:01\r\u001b[K     |███████████████████████████████ | 61 kB 4.7 MB/s eta 0:00:01\r\u001b[K     |████████████████████████████████| 63 kB 1.6 MB/s \n",
            "\u001b[?25hCollecting mathparse<0.2,>=0.1\n",
            "  Downloading mathparse-0.1.2-py3-none-any.whl (7.2 kB)\n",
            "Requirement already satisfied: pytz in /usr/local/lib/python3.7/dist-packages (from ChatterBot) (2018.9)\n",
            "Collecting sqlalchemy<1.4,>=1.3\n",
            "  Downloading SQLAlchemy-1.3.24-cp37-cp37m-manylinux2010_x86_64.whl (1.3 MB)\n",
            "\u001b[K     |████████████████████████████████| 1.3 MB 14.5 MB/s \n",
            "\u001b[?25hRequirement already satisfied: python-dateutil<2.9,>=2.8 in /usr/local/lib/python3.7/dist-packages (from ChatterBot) (2.8.1)\n",
            "Requirement already satisfied: six>=1.5 in /usr/local/lib/python3.7/dist-packages (from python-dateutil<2.9,>=2.8->ChatterBot) (1.15.0)\n",
            "Installing collected packages: sqlalchemy, mathparse, ChatterBot\n",
            "  Attempting uninstall: sqlalchemy\n",
            "    Found existing installation: SQLAlchemy 1.4.20\n",
            "    Uninstalling SQLAlchemy-1.4.20:\n",
            "      Successfully uninstalled SQLAlchemy-1.4.20\n",
            "Successfully installed ChatterBot-1.0.8 mathparse-0.1.2 sqlalchemy-1.3.24\n"
          ],
          "name": "stdout"
        }
      ]
    },
    {
      "cell_type": "code",
      "metadata": {
        "id": "-cWCbY2A84Gh"
      },
      "source": [
        "from chatterbot import ChatBot\n",
        "from chatterbot.trainers import  ListTrainer"
      ],
      "execution_count": 2,
      "outputs": []
    },
    {
      "cell_type": "code",
      "metadata": {
        "id": "rwfvlhQS9Br4"
      },
      "source": [
        "chatbot = ChatBot('My_Bot')"
      ],
      "execution_count": 4,
      "outputs": []
    },
    {
      "cell_type": "code",
      "metadata": {
        "id": "uBLfztI79Kha"
      },
      "source": [
        "conversation = [\n",
        "    \"Hello\",\n",
        "    \"Hi there!\",\n",
        "    \"How are you doing?\",\n",
        "    \"I'm doing great.\",\n",
        "    \"That is good to hear\",\n",
        "    \"Thank you.\",\n",
        "    \"You're welcome.\"\n",
        "    \"Goodbye\"\n",
        "    \"Bye\"\n",
        "]"
      ],
      "execution_count": 5,
      "outputs": []
    },
    {
      "cell_type": "code",
      "metadata": {
        "colab": {
          "base_uri": "https://localhost:8080/"
        },
        "id": "UBwYOZkM-IIS",
        "outputId": "99af65b9-ce4c-4964-da8a-dfa780192902"
      },
      "source": [
        "trainer = ListTrainer(chatbot)\n",
        "\n",
        "trainer.train(conversation)"
      ],
      "execution_count": 6,
      "outputs": [
        {
          "output_type": "stream",
          "text": [
            "List Trainer: [####################] 100%\n"
          ],
          "name": "stdout"
        }
      ]
    },
    {
      "cell_type": "code",
      "metadata": {
        "id": "ugYslDGt-NDM",
        "colab": {
          "base_uri": "https://localhost:8080/"
        },
        "outputId": "2526eb63-5675-4b15-ec52-15ad281a41db"
      },
      "source": [
        "say = input(\"You: \")\n",
        "response = chatbot.get_response(say)\n",
        "print(\"My_Bot :\",response)"
      ],
      "execution_count": 9,
      "outputs": [
        {
          "output_type": "stream",
          "text": [
            "You: good morning\n",
            "My_Bot : Good morning!\n"
          ],
          "name": "stdout"
        }
      ]
    }
  ]
}